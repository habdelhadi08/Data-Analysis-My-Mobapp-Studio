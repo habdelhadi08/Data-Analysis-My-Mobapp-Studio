{
 "cells": [
  {
   "cell_type": "code",
   "execution_count": 2,
   "id": "4e4d7b31",
   "metadata": {},
   "outputs": [
    {
     "name": "stdout",
     "output_type": "stream",
     "text": [
      "Requirement already satisfied: pandas in /home/docode/.pyenv/versions/3.6.7/lib/python3.6/site-packages (1.1.5)\n",
      "Requirement already satisfied: python-dateutil>=2.7.3 in /home/docode/.pyenv/versions/3.6.7/lib/python3.6/site-packages (from pandas) (2.8.2)\n",
      "Requirement already satisfied: pytz>=2017.2 in /home/docode/.pyenv/versions/3.6.7/lib/python3.6/site-packages (from pandas) (2022.5)\n",
      "Requirement already satisfied: numpy>=1.15.4 in /home/docode/.pyenv/versions/3.6.7/lib/python3.6/site-packages (from pandas) (1.19.5)\n",
      "Requirement already satisfied: six>=1.5 in /home/docode/.pyenv/versions/3.6.7/lib/python3.6/site-packages (from python-dateutil>=2.7.3->pandas) (1.16.0)\n",
      "Collecting kaggle\n",
      "  Downloading kaggle-1.6.17.tar.gz (82 kB)\n",
      "     |████████████████████████████████| 82 kB 243 kB/s             \n",
      "\u001b[?25h  Preparing metadata (setup.py) ... \u001b[?25ldone\n",
      "\u001b[?25hRequirement already satisfied: six>=1.10 in /home/docode/.pyenv/versions/3.6.7/lib/python3.6/site-packages (from kaggle) (1.16.0)\n",
      "Collecting certifi>=2023.7.22\n",
      "  Downloading certifi-2024.12.14-py3-none-any.whl (164 kB)\n",
      "     |████████████████████████████████| 164 kB 8.9 MB/s            \n",
      "\u001b[?25hRequirement already satisfied: python-dateutil in /home/docode/.pyenv/versions/3.6.7/lib/python3.6/site-packages (from kaggle) (2.8.2)\n",
      "Requirement already satisfied: requests in /home/docode/.pyenv/versions/3.6.7/lib/python3.6/site-packages (from kaggle) (2.27.1)\n",
      "Collecting tqdm\n",
      "  Downloading tqdm-4.64.1-py2.py3-none-any.whl (78 kB)\n",
      "     |████████████████████████████████| 78 kB 8.4 MB/s             \n",
      "\u001b[?25hCollecting python-slugify\n",
      "  Downloading python_slugify-6.1.2-py2.py3-none-any.whl (9.4 kB)\n",
      "Requirement already satisfied: urllib3 in /home/docode/.pyenv/versions/3.6.7/lib/python3.6/site-packages (from kaggle) (1.26.12)\n",
      "Requirement already satisfied: bleach in /home/docode/.pyenv/versions/3.6.7/lib/python3.6/site-packages (from kaggle) (4.1.0)\n",
      "Requirement already satisfied: webencodings in /home/docode/.pyenv/versions/3.6.7/lib/python3.6/site-packages (from bleach->kaggle) (0.5.1)\n",
      "Requirement already satisfied: packaging in /home/docode/.pyenv/versions/3.6.7/lib/python3.6/site-packages (from bleach->kaggle) (21.3)\n",
      "Collecting text-unidecode>=1.3\n",
      "  Downloading text_unidecode-1.3-py2.py3-none-any.whl (78 kB)\n",
      "     |████████████████████████████████| 78 kB 7.0 MB/s             \n",
      "\u001b[?25hRequirement already satisfied: idna<4,>=2.5 in /home/docode/.pyenv/versions/3.6.7/lib/python3.6/site-packages (from requests->kaggle) (3.4)\n",
      "Requirement already satisfied: charset-normalizer~=2.0.0 in /home/docode/.pyenv/versions/3.6.7/lib/python3.6/site-packages (from requests->kaggle) (2.0.12)\n",
      "Collecting importlib-resources\n",
      "  Downloading importlib_resources-5.4.0-py3-none-any.whl (28 kB)\n",
      "Requirement already satisfied: zipp>=3.1.0 in /home/docode/.pyenv/versions/3.6.7/lib/python3.6/site-packages (from importlib-resources->tqdm->kaggle) (3.6.0)\n",
      "Requirement already satisfied: pyparsing!=3.0.5,>=2.0.2 in /home/docode/.pyenv/versions/3.6.7/lib/python3.6/site-packages (from packaging->bleach->kaggle) (3.0.7)\n",
      "Using legacy 'setup.py install' for kaggle, since package 'wheel' is not installed.\n",
      "Installing collected packages: text-unidecode, importlib-resources, certifi, tqdm, python-slugify, kaggle\n",
      "  Attempting uninstall: certifi\n",
      "    Found existing installation: certifi 2022.9.24\n",
      "    Uninstalling certifi-2022.9.24:\n",
      "      Successfully uninstalled certifi-2022.9.24\n",
      "    Running setup.py install for kaggle ... \u001b[?25ldone\n",
      "\u001b[?25hSuccessfully installed certifi-2024.12.14 importlib-resources-5.4.0 kaggle-1.6.17 python-slugify-6.1.2 text-unidecode-1.3 tqdm-4.64.1\n"
     ]
    }
   ],
   "source": [
    "!pip install pandas \n",
    "!pip install kaggle\n",
    "import pandas as pd\n",
    "import matplotlib.pyplot as plt\n",
    "\n",
    "\n"
   ]
  },
  {
   "cell_type": "code",
   "execution_count": null,
   "id": "e95794b7",
   "metadata": {},
   "outputs": [],
   "source": [
    "def load_dataset():\n",
    "    df = pd.read_csv(\"googleplaystore.csv\")\n",
    "    return df\n",
    "dataset=load_dataset()\n",
    "df.head()\n",
    "\n"
   ]
  },
  {
   "cell_type": "code",
   "execution_count": 33,
   "id": "7f6e888f",
   "metadata": {},
   "outputs": [
    {
     "name": "stdout",
     "output_type": "stream",
     "text": [
      "                                                 App        Category  Rating  \\\n",
      "0     Photo Editor & Candy Camera & Grid & ScrapBook  ART_AND_DESIGN     4.1   \n",
      "1                                Coloring book moana  ART_AND_DESIGN     3.9   \n",
      "2  U Launcher Lite – FREE Live Cool Themes, Hide ...  ART_AND_DESIGN     4.7   \n",
      "3                              Sketch - Draw & Paint  ART_AND_DESIGN     4.5   \n",
      "4              Pixel Draw - Number Art Coloring Book  ART_AND_DESIGN     4.3   \n",
      "\n",
      "  Reviews  Size     Installs  Type Price Content Rating  \\\n",
      "0     159   19M      10,000+  Free     0       Everyone   \n",
      "1     967   14M     500,000+  Free     0       Everyone   \n",
      "2   87510  8.7M   5,000,000+  Free     0       Everyone   \n",
      "3  215644   25M  50,000,000+  Free     0           Teen   \n",
      "4     967  2.8M     100,000+  Free     0       Everyone   \n",
      "\n",
      "                      Genres      Last Updated         Current Ver  \\\n",
      "0               Art & Design   January 7, 2018               1.0.0   \n",
      "1  Art & Design;Pretend Play  January 15, 2018               2.0.0   \n",
      "2               Art & Design    August 1, 2018               1.2.4   \n",
      "3               Art & Design      June 8, 2018  Varies with device   \n",
      "4    Art & Design;Creativity     June 20, 2018                 1.1   \n",
      "\n",
      "    Android Ver  \n",
      "0  4.0.3 and up  \n",
      "1  4.0.3 and up  \n",
      "2  4.0.3 and up  \n",
      "3    4.2 and up  \n",
      "4    4.4 and up  \n",
      "<class 'pandas.core.frame.DataFrame'>\n",
      "RangeIndex: 10841 entries, 0 to 10840\n",
      "Data columns (total 13 columns):\n",
      " #   Column          Non-Null Count  Dtype  \n",
      "---  ------          --------------  -----  \n",
      " 0   App             10841 non-null  object \n",
      " 1   Category        10841 non-null  object \n",
      " 2   Rating          9367 non-null   float64\n",
      " 3   Reviews         10841 non-null  object \n",
      " 4   Size            10841 non-null  object \n",
      " 5   Installs        10841 non-null  object \n",
      " 6   Type            10840 non-null  object \n",
      " 7   Price           10841 non-null  object \n",
      " 8   Content Rating  10840 non-null  object \n",
      " 9   Genres          10841 non-null  object \n",
      " 10  Last Updated    10841 non-null  object \n",
      " 11  Current Ver     10833 non-null  object \n",
      " 12  Android Ver     10838 non-null  object \n",
      "dtypes: float64(1), object(12)\n",
      "memory usage: 1.1+ MB\n",
      "None\n",
      "(10841, 13)\n",
      "            Rating\n",
      "count  9367.000000\n",
      "mean      4.193338\n",
      "std       0.537431\n",
      "min       1.000000\n",
      "25%       4.000000\n",
      "50%       4.300000\n",
      "75%       4.500000\n",
      "max      19.000000\n",
      "App                  0\n",
      "Category             0\n",
      "Rating            1474\n",
      "Reviews              0\n",
      "Size                 0\n",
      "Installs             0\n",
      "Type                 1\n",
      "Price                0\n",
      "Content Rating       1\n",
      "Genres               0\n",
      "Last Updated         0\n",
      "Current Ver          8\n",
      "Android Ver          3\n",
      "dtype: int64\n"
     ]
    }
   ],
   "source": [
    "def print_summarize_dataset(dataset):\n",
    "    print(dataset.head())\n",
    "    print(dataset.info())\n",
    "    print(dataset.shape)\n",
    "    print(dataset.describe())\n",
    "    print(dataset.isnull().sum())\n",
    "\n",
    "print_summarize_dataset(dataset)\n"
   ]
  },
  {
   "cell_type": "code",
   "execution_count": 4,
   "id": "f88fd374",
   "metadata": {},
   "outputs": [
    {
     "name": "stdout",
     "output_type": "stream",
     "text": [
      "                                                 App        Category  Rating  \\\n",
      "0     Photo Editor & Candy Camera & Grid & ScrapBook  ART_AND_DESIGN     4.1   \n",
      "1                                Coloring book moana  ART_AND_DESIGN     3.9   \n",
      "2  U Launcher Lite – FREE Live Cool Themes, Hide ...  ART_AND_DESIGN     4.7   \n",
      "3                              Sketch - Draw & Paint  ART_AND_DESIGN     4.5   \n",
      "4              Pixel Draw - Number Art Coloring Book  ART_AND_DESIGN     4.3   \n",
      "\n",
      "  Reviews     Size     Installs  Type  Price Content Rating  \\\n",
      "0     159  19000.0      10,000+  Free    0.0       Everyone   \n",
      "1     967  14000.0     500,000+  Free    0.0       Everyone   \n",
      "2   87510      8.7   5,000,000+  Free    0.0       Everyone   \n",
      "3  215644  25000.0  50,000,000+  Free    0.0           Teen   \n",
      "4     967      2.8     100,000+  Free    0.0       Everyone   \n",
      "\n",
      "                      Genres      Last Updated         Current Ver  \\\n",
      "0               Art & Design   January 7, 2018               1.0.0   \n",
      "1  Art & Design;Pretend Play  January 15, 2018               2.0.0   \n",
      "2               Art & Design    August 1, 2018               1.2.4   \n",
      "3               Art & Design      June 8, 2018  Varies with device   \n",
      "4    Art & Design;Creativity     June 20, 2018                 1.1   \n",
      "\n",
      "    Android Ver  \n",
      "0  4.0.3 and up  \n",
      "1  4.0.3 and up  \n",
      "2  4.0.3 and up  \n",
      "3    4.2 and up  \n",
      "4    4.4 and up  \n"
     ]
    }
   ],
   "source": [
    "def clean_dataset(dataset):\n",
    "    dataset = dataset.dropna()\n",
    "    dataset = dataset.drop_duplicates()\n",
    "    dataset['Size'] = dataset['Size'].str.replace('M', '000').str.replace('k', '').str.replace('Varies with device', '0').astype(float)\n",
    "    dataset['Price'] = dataset['Price'].str.replace('$', '').astype(float)\n",
    "    return dataset\n",
    "clean_dataset(dataset)\n",
    "print(clean_dataset(dataset).head())\n"
   ]
  },
  {
   "cell_type": "code",
   "execution_count": 14,
   "id": "eb02c576",
   "metadata": {
    "scrolled": false
   },
   "outputs": [
    {
     "data": {
      "image/png": "[encoded data removed]",
      "text/plain": [
       "<Figure size 864x720 with 1 Axes>"
      ]
     },
     "metadata": {
      "needs_background": "light"
     },
     "output_type": "display_data"
    }
   ],
   "source": [
    "def print_histograms(dataset):\n",
    "    top10_categories = dataset['Category'].value_counts().head(30)\n",
    "    plt.figure(figsize=(12, 10))\n",
    "    plt.hist(top10_categories, color=\"blue\", bins=40)\n",
    "    plt.title('Histogram of Price')\n",
    "    plt.xlabel(\"price\")\n",
    "    plt.ylabel(\"frequency\")\n",
    "    plt.grid(True)\n",
    "    plt.show()\n",
    "print_histograms(dataset)\n",
    "    "
   ]
  },
  {
   "cell_type": "code",
   "execution_count": 15,
   "id": "ee1f8059",
   "metadata": {},
   "outputs": [
    {
     "name": "stdout",
     "output_type": "stream",
     "text": [
      "\n",
      "\u001b[92m\n",
      " ██████╗ ██╗    ██╗ █████╗ ███████╗ █████╗ ██████╗    ██╗ ██████╗ \n",
      "██╔═══██╗██║    ██║██╔══██╗██╔════╝██╔══██╗██╔══██╗   ██║██╔═══██╗\n",
      "██║   ██║██║ █╗ ██║███████║███████╗███████║██████╔╝   ██║██║   ██║\n",
      "██║▄▄ ██║██║███╗██║██╔══██║╚════██║██╔══██║██╔══██╗   ██║██║   ██║\n",
      "╚██████╔╝╚███╔███╔╝██║  ██║███████║██║  ██║██║  ██║██╗██║╚██████╔╝\n",
      " ╚══▀▀═╝  ╚══╝╚══╝ ╚═╝  ╚═╝╚══════╝╚═╝  ╚═╝╚═╝  ╚═╝╚═╝╚═╝ ╚═════╝ \n",
      "\t\t\t\t\t\t\t\t\t\t\t\t\t\t\t\t\t\t\t\t\t\t\t\t\t\t\t\t\t\t\t\t \u001b[0m\n",
      "Booting Gandalf v4.0.3-df2e622 (production)\n",
      "Loading parameters:  \u001b[32mOK\u001b[0m\n",
      "User abdelhad_h connection: \u001b[32mOK\u001b[0m\n",
      "\n",
      "\n",
      "<MY-MOBAPP-STUDIO>\n",
      "Directory . exists: \u001b[32mOK\u001b[0m\n",
      "./my_mobapp_studio doesn't exist.\n",
      "</MY-MOBAPP-STUDIO>\n"
     ]
    }
   ],
   "source": [
    "!gandalf"
   ]
  },
  {
   "cell_type": "code",
   "execution_count": null,
   "id": "d686f380",
   "metadata": {},
   "outputs": [],
   "source": []
  }
 ],
 "metadata": {
  "kernelspec": {
   "display_name": "Python 3",
   "language": "python",
   "name": "python3"
  },
  "language_info": {
   "codemirror_mode": {
    "name": "ipython",
    "version": 3
   },
   "file_extension": ".py",
   "mimetype": "text/x-python",
   "name": "python",
   "nbconvert_exporter": "python",
   "pygments_lexer": "ipython3",
   "version": "3.6.7"
  }
 },
 "nbformat": 4,
 "nbformat_minor": 5
}
